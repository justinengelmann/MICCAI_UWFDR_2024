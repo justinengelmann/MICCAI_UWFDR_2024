{
 "cells": [
  {
   "cell_type": "code",
   "execution_count": 14,
   "id": "d03a313e-525a-4e74-8326-e6495b010fa9",
   "metadata": {},
   "outputs": [
    {
     "name": "stdout",
     "output_type": "stream",
     "text": [
      "161\n",
      "Training started. Save name: miccai24/uwf_runs/tsk3_mnv3_rw_800x768_0808130644_fold0croppx128\n"
     ]
    },
    {
     "data": {
      "application/vnd.jupyter.widget-view+json": {
       "model_id": "204e57dfe6984daba45c1da04add91c4",
       "version_major": 2,
       "version_minor": 0
      },
      "text/plain": [
       "Epochs:   0%|          | 0/20 [00:00<?, ?it/s]"
      ]
     },
     "metadata": {},
     "output_type": "display_data"
    },
    {
     "name": "stdout",
     "output_type": "stream",
     "text": [
      "Initialising EMA\n"
     ]
    },
    {
     "data": {
      "application/vnd.jupyter.widget-view+json": {
       "model_id": "c8018d5f97d2400487f8c7f112bfce97",
       "version_major": 2,
       "version_minor": 0
      },
      "text/plain": [
       "Train:   0%|          | 0/14 [00:00<?, ?it/s]"
      ]
     },
     "metadata": {},
     "output_type": "display_data"
    },
    {
     "data": {
      "application/vnd.jupyter.widget-view+json": {
       "model_id": "f2914c5d87fb43d096e8348c7c776028",
       "version_major": 2,
       "version_minor": 0
      },
      "text/plain": [
       "Val:   0%|          | 0/1 [00:00<?, ?it/s]"
      ]
     },
     "metadata": {},
     "output_type": "display_data"
    },
    {
     "name": "stdout",
     "output_type": "stream",
     "text": [
      "Ep 0 Train L: 0.2447 AUC: 0.9646 Val L: 0.0088 AUC: 1.0000 EMA L: 0.0342 AUC: 1.0000\n"
     ]
    },
    {
     "data": {
      "application/vnd.jupyter.widget-view+json": {
       "model_id": "cb085584bd3a4767888fb67784948531",
       "version_major": 2,
       "version_minor": 0
      },
      "text/plain": [
       "Train:   0%|          | 0/14 [00:00<?, ?it/s]"
      ]
     },
     "metadata": {},
     "output_type": "display_data"
    },
    {
     "data": {
      "application/vnd.jupyter.widget-view+json": {
       "model_id": "2c6be2c5dc6b49a99ee4e5879fb24e3f",
       "version_major": 2,
       "version_minor": 0
      },
      "text/plain": [
       "Val:   0%|          | 0/1 [00:00<?, ?it/s]"
      ]
     },
     "metadata": {},
     "output_type": "display_data"
    },
    {
     "name": "stdout",
     "output_type": "stream",
     "text": [
      "Ep 1 Train L: 0.1203 AUC: 0.9932 Val L: 0.0102 AUC: 1.0000 EMA L: 0.0267 AUC: 1.0000\n"
     ]
    },
    {
     "data": {
      "application/vnd.jupyter.widget-view+json": {
       "model_id": "295219099e0d420fba2c0acca9fbaf66",
       "version_major": 2,
       "version_minor": 0
      },
      "text/plain": [
       "Train:   0%|          | 0/14 [00:00<?, ?it/s]"
      ]
     },
     "metadata": {},
     "output_type": "display_data"
    },
    {
     "data": {
      "application/vnd.jupyter.widget-view+json": {
       "model_id": "b6f926039c544e38bfa164fdb10f4d4a",
       "version_major": 2,
       "version_minor": 0
      },
      "text/plain": [
       "Val:   0%|          | 0/1 [00:00<?, ?it/s]"
      ]
     },
     "metadata": {},
     "output_type": "display_data"
    },
    {
     "name": "stdout",
     "output_type": "stream",
     "text": [
      "Ep 2 Train L: 0.2396 AUC: 0.9765 Val L: 0.0082 AUC: 1.0000 EMA L: 0.0195 AUC: 1.0000\n"
     ]
    },
    {
     "data": {
      "application/vnd.jupyter.widget-view+json": {
       "model_id": "48830b56d6e84d75bb14a9528e160be7",
       "version_major": 2,
       "version_minor": 0
      },
      "text/plain": [
       "Train:   0%|          | 0/14 [00:00<?, ?it/s]"
      ]
     },
     "metadata": {},
     "output_type": "display_data"
    },
    {
     "data": {
      "application/vnd.jupyter.widget-view+json": {
       "model_id": "a2c62d96d7ec44c6a4a830c4eb275bbb",
       "version_major": 2,
       "version_minor": 0
      },
      "text/plain": [
       "Val:   0%|          | 0/1 [00:00<?, ?it/s]"
      ]
     },
     "metadata": {},
     "output_type": "display_data"
    },
    {
     "name": "stdout",
     "output_type": "stream",
     "text": [
      "Ep 3 Train L: 0.2040 AUC: 0.9755 Val L: 0.0032 AUC: 1.0000 EMA L: 0.0146 AUC: 1.0000\n"
     ]
    },
    {
     "data": {
      "application/vnd.jupyter.widget-view+json": {
       "model_id": "641b5cbb02164007b504c4fa0a3c9cfb",
       "version_major": 2,
       "version_minor": 0
      },
      "text/plain": [
       "Train:   0%|          | 0/14 [00:00<?, ?it/s]"
      ]
     },
     "metadata": {},
     "output_type": "display_data"
    },
    {
     "data": {
      "application/vnd.jupyter.widget-view+json": {
       "model_id": "d809474649314cb59b907d05354be03b",
       "version_major": 2,
       "version_minor": 0
      },
      "text/plain": [
       "Val:   0%|          | 0/1 [00:00<?, ?it/s]"
      ]
     },
     "metadata": {},
     "output_type": "display_data"
    },
    {
     "name": "stdout",
     "output_type": "stream",
     "text": [
      "Ep 4 Train L: 0.1532 AUC: 0.9862 Val L: 0.0035 AUC: 1.0000 EMA L: 0.0110 AUC: 1.0000\n"
     ]
    },
    {
     "data": {
      "application/vnd.jupyter.widget-view+json": {
       "model_id": "4d4b37f969e24f1f9fca761eed25c2f4",
       "version_major": 2,
       "version_minor": 0
      },
      "text/plain": [
       "Train:   0%|          | 0/14 [00:00<?, ?it/s]"
      ]
     },
     "metadata": {},
     "output_type": "display_data"
    },
    {
     "data": {
      "application/vnd.jupyter.widget-view+json": {
       "model_id": "1399305043674cc1897edbed192eb5ad",
       "version_major": 2,
       "version_minor": 0
      },
      "text/plain": [
       "Val:   0%|          | 0/1 [00:00<?, ?it/s]"
      ]
     },
     "metadata": {},
     "output_type": "display_data"
    },
    {
     "name": "stdout",
     "output_type": "stream",
     "text": [
      "Ep 5 Train L: 0.0929 AUC: 0.9930 Val L: 0.0116 AUC: 1.0000 EMA L: 0.0084 AUC: 1.0000\n"
     ]
    },
    {
     "data": {
      "application/vnd.jupyter.widget-view+json": {
       "model_id": "97d3f9af6f1e4ada87e0ac247ca91454",
       "version_major": 2,
       "version_minor": 0
      },
      "text/plain": [
       "Train:   0%|          | 0/14 [00:00<?, ?it/s]"
      ]
     },
     "metadata": {},
     "output_type": "display_data"
    },
    {
     "data": {
      "application/vnd.jupyter.widget-view+json": {
       "model_id": "5678a32d30f3404090afb17c7ea70cb2",
       "version_major": 2,
       "version_minor": 0
      },
      "text/plain": [
       "Val:   0%|          | 0/1 [00:00<?, ?it/s]"
      ]
     },
     "metadata": {},
     "output_type": "display_data"
    },
    {
     "name": "stdout",
     "output_type": "stream",
     "text": [
      "Ep 6 Train L: 0.1684 AUC: 0.9854 Val L: 0.0023 AUC: 1.0000 EMA L: 0.0060 AUC: 1.0000\n"
     ]
    },
    {
     "data": {
      "application/vnd.jupyter.widget-view+json": {
       "model_id": "9bf97045c10d40cea84612b0b20ddcc7",
       "version_major": 2,
       "version_minor": 0
      },
      "text/plain": [
       "Train:   0%|          | 0/14 [00:00<?, ?it/s]"
      ]
     },
     "metadata": {},
     "output_type": "display_data"
    },
    {
     "data": {
      "application/vnd.jupyter.widget-view+json": {
       "model_id": "2733fb2e06824d8db4b5a77e26682d63",
       "version_major": 2,
       "version_minor": 0
      },
      "text/plain": [
       "Val:   0%|          | 0/1 [00:00<?, ?it/s]"
      ]
     },
     "metadata": {},
     "output_type": "display_data"
    },
    {
     "name": "stdout",
     "output_type": "stream",
     "text": [
      "Ep 7 Train L: 0.1278 AUC: 0.9922 Val L: 0.0005 AUC: 1.0000 EMA L: 0.0040 AUC: 1.0000\n"
     ]
    },
    {
     "data": {
      "application/vnd.jupyter.widget-view+json": {
       "model_id": "9f05bb84b9be4f78a3f9149982b51c22",
       "version_major": 2,
       "version_minor": 0
      },
      "text/plain": [
       "Train:   0%|          | 0/14 [00:00<?, ?it/s]"
      ]
     },
     "metadata": {},
     "output_type": "display_data"
    },
    {
     "data": {
      "application/vnd.jupyter.widget-view+json": {
       "model_id": "d2873309346e4f7d8cfd651cbc66be5b",
       "version_major": 2,
       "version_minor": 0
      },
      "text/plain": [
       "Val:   0%|          | 0/1 [00:00<?, ?it/s]"
      ]
     },
     "metadata": {},
     "output_type": "display_data"
    },
    {
     "name": "stdout",
     "output_type": "stream",
     "text": [
      "Ep 8 Train L: 0.1962 AUC: 0.9798 Val L: 0.0002 AUC: 1.0000 EMA L: 0.0025 AUC: 1.0000\n"
     ]
    },
    {
     "data": {
      "application/vnd.jupyter.widget-view+json": {
       "model_id": "4064fa64fc0145c3ac48ac14e7d93eab",
       "version_major": 2,
       "version_minor": 0
      },
      "text/plain": [
       "Train:   0%|          | 0/14 [00:00<?, ?it/s]"
      ]
     },
     "metadata": {},
     "output_type": "display_data"
    },
    {
     "data": {
      "application/vnd.jupyter.widget-view+json": {
       "model_id": "b9e8cc38f4d542ff8b1cbd41da3636af",
       "version_major": 2,
       "version_minor": 0
      },
      "text/plain": [
       "Val:   0%|          | 0/1 [00:00<?, ?it/s]"
      ]
     },
     "metadata": {},
     "output_type": "display_data"
    },
    {
     "name": "stdout",
     "output_type": "stream",
     "text": [
      "Ep 9 Train L: 0.1080 AUC: 0.9964 Val L: 0.0005 AUC: 1.0000 EMA L: 0.0014 AUC: 1.0000\n"
     ]
    },
    {
     "data": {
      "application/vnd.jupyter.widget-view+json": {
       "model_id": "fff7249162094b12aa4dd1db633b944d",
       "version_major": 2,
       "version_minor": 0
      },
      "text/plain": [
       "Train:   0%|          | 0/14 [00:00<?, ?it/s]"
      ]
     },
     "metadata": {},
     "output_type": "display_data"
    },
    {
     "data": {
      "application/vnd.jupyter.widget-view+json": {
       "model_id": "a64ce7684f1d40bdabffd06688bc04a4",
       "version_major": 2,
       "version_minor": 0
      },
      "text/plain": [
       "Val:   0%|          | 0/1 [00:00<?, ?it/s]"
      ]
     },
     "metadata": {},
     "output_type": "display_data"
    },
    {
     "name": "stdout",
     "output_type": "stream",
     "text": [
      "Ep 10 Train L: 0.1302 AUC: 0.9876 Val L: 0.0010 AUC: 1.0000 EMA L: 0.0009 AUC: 1.0000\n"
     ]
    },
    {
     "data": {
      "application/vnd.jupyter.widget-view+json": {
       "model_id": "6e2ab4093ca047f4a1c45e98af2cd22f",
       "version_major": 2,
       "version_minor": 0
      },
      "text/plain": [
       "Train:   0%|          | 0/14 [00:00<?, ?it/s]"
      ]
     },
     "metadata": {},
     "output_type": "display_data"
    },
    {
     "data": {
      "application/vnd.jupyter.widget-view+json": {
       "model_id": "ffb036afb2134717883cfdab7d6b1899",
       "version_major": 2,
       "version_minor": 0
      },
      "text/plain": [
       "Val:   0%|          | 0/1 [00:00<?, ?it/s]"
      ]
     },
     "metadata": {},
     "output_type": "display_data"
    },
    {
     "name": "stdout",
     "output_type": "stream",
     "text": [
      "Ep 11 Train L: 0.1015 AUC: 0.9947 Val L: 0.0005 AUC: 1.0000 EMA L: 0.0006 AUC: 1.0000\n"
     ]
    },
    {
     "data": {
      "application/vnd.jupyter.widget-view+json": {
       "model_id": "64574d9bddc64e00adbe587f8f0ed5db",
       "version_major": 2,
       "version_minor": 0
      },
      "text/plain": [
       "Train:   0%|          | 0/14 [00:00<?, ?it/s]"
      ]
     },
     "metadata": {},
     "output_type": "display_data"
    },
    {
     "data": {
      "application/vnd.jupyter.widget-view+json": {
       "model_id": "4bcc9274670e4a2f8f06dfc40e8194e7",
       "version_major": 2,
       "version_minor": 0
      },
      "text/plain": [
       "Val:   0%|          | 0/1 [00:00<?, ?it/s]"
      ]
     },
     "metadata": {},
     "output_type": "display_data"
    },
    {
     "name": "stdout",
     "output_type": "stream",
     "text": [
      "Ep 12 Train L: 0.1250 AUC: 0.9927 Val L: 0.0012 AUC: 1.0000 EMA L: 0.0005 AUC: 1.0000\n"
     ]
    },
    {
     "data": {
      "application/vnd.jupyter.widget-view+json": {
       "model_id": "78be9b8689f04edb8203dd362ab6f88c",
       "version_major": 2,
       "version_minor": 0
      },
      "text/plain": [
       "Train:   0%|          | 0/14 [00:00<?, ?it/s]"
      ]
     },
     "metadata": {},
     "output_type": "display_data"
    },
    {
     "data": {
      "application/vnd.jupyter.widget-view+json": {
       "model_id": "bff6fc56d62347e48bde567cc91c7e06",
       "version_major": 2,
       "version_minor": 0
      },
      "text/plain": [
       "Val:   0%|          | 0/1 [00:00<?, ?it/s]"
      ]
     },
     "metadata": {},
     "output_type": "display_data"
    },
    {
     "name": "stdout",
     "output_type": "stream",
     "text": [
      "Ep 13 Train L: 0.0625 AUC: 0.9984 Val L: 0.0004 AUC: 1.0000 EMA L: 0.0005 AUC: 1.0000\n"
     ]
    },
    {
     "data": {
      "application/vnd.jupyter.widget-view+json": {
       "model_id": "5e289d60ef134c75aff86b5a9ef95853",
       "version_major": 2,
       "version_minor": 0
      },
      "text/plain": [
       "Train:   0%|          | 0/14 [00:00<?, ?it/s]"
      ]
     },
     "metadata": {},
     "output_type": "display_data"
    },
    {
     "data": {
      "application/vnd.jupyter.widget-view+json": {
       "model_id": "dfb9a4646223472d90f8cbe1b06cb5fa",
       "version_major": 2,
       "version_minor": 0
      },
      "text/plain": [
       "Val:   0%|          | 0/1 [00:00<?, ?it/s]"
      ]
     },
     "metadata": {},
     "output_type": "display_data"
    },
    {
     "name": "stdout",
     "output_type": "stream",
     "text": [
      "Ep 14 Train L: 0.1059 AUC: 0.9947 Val L: 0.0164 AUC: 1.0000 EMA L: 0.0005 AUC: 1.0000\n"
     ]
    },
    {
     "data": {
      "application/vnd.jupyter.widget-view+json": {
       "model_id": "7acfffc63f664d4d95ae5de0d8b939f0",
       "version_major": 2,
       "version_minor": 0
      },
      "text/plain": [
       "Train:   0%|          | 0/14 [00:00<?, ?it/s]"
      ]
     },
     "metadata": {},
     "output_type": "display_data"
    },
    {
     "data": {
      "application/vnd.jupyter.widget-view+json": {
       "model_id": "e8da76ac9fd44796a1c1ef3148dc8488",
       "version_major": 2,
       "version_minor": 0
      },
      "text/plain": [
       "Val:   0%|          | 0/1 [00:00<?, ?it/s]"
      ]
     },
     "metadata": {},
     "output_type": "display_data"
    },
    {
     "name": "stdout",
     "output_type": "stream",
     "text": [
      "Ep 15 Train L: 0.1947 AUC: 0.9801 Val L: 0.0031 AUC: 1.0000 EMA L: 0.0007 AUC: 1.0000\n"
     ]
    },
    {
     "data": {
      "application/vnd.jupyter.widget-view+json": {
       "model_id": "86528f7f619d468787bc460e7f3d9d05",
       "version_major": 2,
       "version_minor": 0
      },
      "text/plain": [
       "Train:   0%|          | 0/14 [00:00<?, ?it/s]"
      ]
     },
     "metadata": {},
     "output_type": "display_data"
    },
    {
     "data": {
      "application/vnd.jupyter.widget-view+json": {
       "model_id": "9ac298345be041fa8bdce162e9fece74",
       "version_major": 2,
       "version_minor": 0
      },
      "text/plain": [
       "Val:   0%|          | 0/1 [00:00<?, ?it/s]"
      ]
     },
     "metadata": {},
     "output_type": "display_data"
    },
    {
     "name": "stdout",
     "output_type": "stream",
     "text": [
      "Ep 16 Train L: 0.1154 AUC: 0.9908 Val L: 0.0240 AUC: 1.0000 EMA L: 0.0010 AUC: 1.0000\n"
     ]
    },
    {
     "data": {
      "application/vnd.jupyter.widget-view+json": {
       "model_id": "9874823a526246df85d542cc3a4116a2",
       "version_major": 2,
       "version_minor": 0
      },
      "text/plain": [
       "Train:   0%|          | 0/14 [00:00<?, ?it/s]"
      ]
     },
     "metadata": {},
     "output_type": "display_data"
    },
    {
     "data": {
      "application/vnd.jupyter.widget-view+json": {
       "model_id": "4b20d73f9bc74a278370f95395e3c1e8",
       "version_major": 2,
       "version_minor": 0
      },
      "text/plain": [
       "Val:   0%|          | 0/1 [00:00<?, ?it/s]"
      ]
     },
     "metadata": {},
     "output_type": "display_data"
    },
    {
     "name": "stdout",
     "output_type": "stream",
     "text": [
      "Ep 17 Train L: 0.0729 AUC: 0.9970 Val L: 0.4423 AUC: 1.0000 EMA L: 0.0017 AUC: 1.0000\n"
     ]
    },
    {
     "data": {
      "application/vnd.jupyter.widget-view+json": {
       "model_id": "9056d84a9bfb46ef9516bb1a4b342626",
       "version_major": 2,
       "version_minor": 0
      },
      "text/plain": [
       "Train:   0%|          | 0/14 [00:00<?, ?it/s]"
      ]
     },
     "metadata": {},
     "output_type": "display_data"
    },
    {
     "data": {
      "application/vnd.jupyter.widget-view+json": {
       "model_id": "6df4e86d1a7a4b0cb6f2c37d4076d322",
       "version_major": 2,
       "version_minor": 0
      },
      "text/plain": [
       "Val:   0%|          | 0/1 [00:00<?, ?it/s]"
      ]
     },
     "metadata": {},
     "output_type": "display_data"
    },
    {
     "name": "stdout",
     "output_type": "stream",
     "text": [
      "Ep 18 Train L: 0.1629 AUC: 0.9887 Val L: 0.0009 AUC: 1.0000 EMA L: 0.0019 AUC: 1.0000\n"
     ]
    },
    {
     "data": {
      "application/vnd.jupyter.widget-view+json": {
       "model_id": "1d9696abd9c041a5a99d3cd221560d8d",
       "version_major": 2,
       "version_minor": 0
      },
      "text/plain": [
       "Train:   0%|          | 0/14 [00:00<?, ?it/s]"
      ]
     },
     "metadata": {},
     "output_type": "display_data"
    },
    {
     "data": {
      "application/vnd.jupyter.widget-view+json": {
       "model_id": "630f01b0415442adb2f17eebcc34a481",
       "version_major": 2,
       "version_minor": 0
      },
      "text/plain": [
       "Val:   0%|          | 0/1 [00:00<?, ?it/s]"
      ]
     },
     "metadata": {},
     "output_type": "display_data"
    },
    {
     "name": "stdout",
     "output_type": "stream",
     "text": [
      "Ep 19 Train L: 0.0981 AUC: 0.9955 Val L: 0.0001 AUC: 1.0000 EMA L: 0.0016 AUC: 1.0000\n",
      "Training completed. Final model and metrics saved with prefix: miccai24/uwf_runs/tsk3_mnv3_rw_800x768_0808130644_fold0croppx128\n",
      "All submissions prepared, including EMA models if applicable.\n"
     ]
    }
   ],
   "source": [
    "import torch\n",
    "import timm\n",
    "from tqdm.notebook import tqdm\n",
    "from torch.utils.data import DataLoader\n",
    "from sklearn.metrics import roc_auc_score\n",
    "from sklearn.model_selection import StratifiedKFold\n",
    "import numpy as np\n",
    "from pathlib import Path\n",
    "from datetime import datetime\n",
    "import joblib\n",
    "import pandas as pd\n",
    "from uwf_data import get_dataloaders\n",
    "from timm.utils import ModelEmaV2\n",
    "\n",
    "# Configuration dictionary\n",
    "config = {\n",
    "    \"dataset\": \"tsk3\",\n",
    "    \"model_name\": 'mobilenetv3_rw',\n",
    "    \"batch_size\": 12,\n",
    "    \"epochs\": 20,\n",
    "    \"learning_rate\": 3e-4,\n",
    "    \"weight_decay\": 1e-5,\n",
    "    \"optimizer\": \"AdamW\",\n",
    "    \"targets\": ['diabetic macular edema'],\n",
    "    \"mixed_precision\": False,\n",
    "    \"dtype\": torch.bfloat16,\n",
    "    \"device\": torch.device(\"cuda\" if torch.cuda.is_available() else \"cpu\"),\n",
    "    \"resolution\": (800, 768),\n",
    "    \"aug_type\": \"strong_v2\",\n",
    "    \"aug_prob\": 0.99,\n",
    "    \"grad_clip_norm\": 1.0,\n",
    "    \"label_smoothing_min_max\": (0.001, 0.999),\n",
    "    \"model_to_load\": 'bT3EMAtsk3_mnv3_rw_800x768_0804201539_fold0_final',\n",
    "    \"use_ema\": True,\n",
    "    \"ema_decay\": 0.99,\n",
    "    \"ema_start_epoch\": 0,\n",
    "    \"n_folds\": 30,\n",
    "    \"cv_index\": 0,\n",
    "    \"crop_px\": 128,\n",
    "}\n",
    "config[\"num_classes\"] = len(config[\"targets\"])\n",
    "\n",
    "df = pd.read_csv('uwf_task2_labels.csv')\n",
    "df = df[df['diabetic macular edema'].notnull()].copy()\n",
    "skf = StratifiedKFold(n_splits=config[\"n_folds\"], shuffle=True, random_state=42)\n",
    "\n",
    "for fold, (train_index, val_index) in enumerate(skf.split(df, df['diabetic macular edema'])):\n",
    "    if fold == config[\"cv_index\"]:\n",
    "        train_ids = df.iloc[train_index]['image'].values\n",
    "        val_ids = df.iloc[val_index]['image'].values\n",
    "        break\n",
    "\n",
    "train_df = df[df.image.isin(train_ids)].copy()\n",
    "val_df = df[df.image.isin(val_ids)]\n",
    "\n",
    "train_loader, val_loader = get_dataloaders(train_df, val_df, target_cols=config[\"targets\"], batch_size=config['batch_size'],\n",
    "                                           res=config[\"resolution\"], aug_type=config[\"aug_type\"], aug_prob=config[\"aug_prob\"])\n",
    "print(len(train_loader.dataset))\n",
    "\n",
    "current_time = datetime.now().strftime(\"%m%d%H%M%S\")\n",
    "res_str = f\"{config['resolution'][0]}x{config['resolution'][1]}\"\n",
    "    \n",
    "save_name = f\"miccai24/uwf_runs/{config['dataset']}_{config['model_name']}_{res_str}_{current_time}_fold{config['cv_index']}\"\n",
    "if config['crop_px']>0:\n",
    "    save_name += f\"croppx{config['crop_px']}\"\n",
    "save_name = save_name.replace('efficientnet', 'efn').replace('resnet', 'rn').replace('mobilenet', 'mn').replace('densenet', 'dn')\n",
    "save_path = Path(save_name)\n",
    "save_path.mkdir(exist_ok=True, parents=True)\n",
    "print(f\"Training started. Save name: {save_name}\")\n",
    "joblib.dump(config, save_path/f'config.joblib')\n",
    "\n",
    "model = timm.create_model(config[\"model_name\"], pretrained=True, num_classes=config[\"num_classes\"])\n",
    "if config['model_to_load']:\n",
    "    state_dict = torch.load(f'{config[\"model_to_load\"]}.pth')\n",
    "    try:\n",
    "        model = timm.create_model(config[\"model_name\"], pretrained=False, num_classes=config[\"num_classes\"])\n",
    "        config[\"model_name\"] = state_dict[\"model_name\"]\n",
    "    except:\n",
    "        pass\n",
    "    if state_dict.get('conv1.weight', torch.zeros([1,1])).shape[1] == 2:\n",
    "        with torch.no_grad():\n",
    "            state_dict['conv1.weight'] = torch.concat([state_dict['conv1.weight'], torch.zeros((64,1,7,7))], dim=1)    \n",
    "    model.load_state_dict(state_dict, strict=False)\n",
    "    del state_dict\n",
    "\n",
    "model = model.to(config[\"device\"])\n",
    "\n",
    "ema_model = None\n",
    "\n",
    "criterion = torch.nn.BCEWithLogitsLoss()\n",
    "if config[\"optimizer\"] == \"Adam\":\n",
    "    optimizer = torch.optim.Adam(model.parameters(), lr=config[\"learning_rate\"], weight_decay=config[\"weight_decay\"])\n",
    "elif config[\"optimizer\"] == \"AdamW\":\n",
    "    optimizer = torch.optim.AdamW(model.parameters(), lr=config[\"learning_rate\"], weight_decay=config[\"weight_decay\"])\n",
    "else:\n",
    "    raise ValueError(f\"Unsupported optimizer: {config['optimizer']}\")\n",
    "\n",
    "scaler = torch.cuda.amp.GradScaler(enabled=config[\"mixed_precision\"])\n",
    "ls_min, ls_max = config['label_smoothing_min_max']\n",
    "\n",
    "best_val_loss = np.inf\n",
    "train_metrics = []\n",
    "val_metrics = []\n",
    "main_pbar = tqdm(range(config[\"epochs\"]), desc=\"Epochs\")\n",
    "for epoch in main_pbar:\n",
    "    if config[\"use_ema\"] and epoch >= config[\"ema_start_epoch\"]:\n",
    "        if ema_model is None:\n",
    "            print('Initialising EMA')\n",
    "            ema_model = ModelEmaV2(model, decay=config[\"ema_decay\"])\n",
    "        \n",
    "    model.train()\n",
    "    epoch_loss = 0\n",
    "    all_targets = []\n",
    "    all_predictions = []\n",
    "    \n",
    "    pbar = tqdm(train_loader, desc=\"Train\", leave=False)\n",
    "    for batch in pbar:\n",
    "        inputs = batch['image']\n",
    "        if config['crop_px']>0:\n",
    "            inputs = inputs[:, :, config['crop_px']:-config['crop_px'], config['crop_px']:-config['crop_px']]\n",
    "        targets = batch['target'].clamp(ls_min, ls_max)\n",
    "        inputs, targets = inputs.to(config[\"device\"]), targets.to(config[\"device\"])\n",
    "        \n",
    "        optimizer.zero_grad()\n",
    "        with torch.cuda.amp.autocast(enabled=config[\"mixed_precision\"], dtype=config[\"dtype\"]):\n",
    "            outputs = model(inputs)\n",
    "            loss = criterion(outputs, targets.float())\n",
    "        \n",
    "        scaler.scale(loss).backward()\n",
    "        if config[\"grad_clip_norm\"] > 0:\n",
    "            scaler.unscale_(optimizer)\n",
    "            torch.nn.utils.clip_grad_norm_(model.parameters(), config[\"grad_clip_norm\"])\n",
    "        \n",
    "        scaler.step(optimizer)\n",
    "        scaler.update()\n",
    "        \n",
    "        if ema_model:\n",
    "            ema_model.update(model)\n",
    "        \n",
    "        epoch_loss += loss.item() * inputs.size(0)\n",
    "        all_targets.extend(targets.cpu().numpy())\n",
    "        all_predictions.extend(outputs.float().squeeze().detach().cpu().numpy())\n",
    "        \n",
    "        pbar.set_postfix({\n",
    "            \"loss\": f\"{loss.item():.4f}\",\n",
    "            \"mem\": f\"{torch.cuda.max_memory_allocated() / 1e9:.2f}GB\"\n",
    "        })\n",
    "    \n",
    "    epoch_loss /= len(train_loader.dataset)\n",
    "    epoch_auc = roc_auc_score(np.hstack(all_targets)>0.5, all_predictions)\n",
    "    train_metrics.append({\"loss\": epoch_loss, \"auc\": epoch_auc})\n",
    "        \n",
    "    model.eval()\n",
    "    if ema_model:\n",
    "        ema_model.eval()\n",
    "    val_loss = 0\n",
    "    ema_val_loss = 0\n",
    "    all_targets = []\n",
    "    all_predictions = []\n",
    "    ema_all_predictions = []\n",
    "    with torch.no_grad():\n",
    "        for batch in tqdm(val_loader, desc=\"Val\", leave=False):\n",
    "            inputs = batch['image']\n",
    "            if config['crop_px']>0:\n",
    "                inputs = inputs[:, :, config['crop_px']:-config['crop_px'], config['crop_px']:-config['crop_px']]\n",
    "            targets = batch['target']\n",
    "            inputs, targets = inputs.to(config[\"device\"]), targets.to(config[\"device\"])\n",
    "            \n",
    "            with torch.cuda.amp.autocast(enabled=config[\"mixed_precision\"], dtype=config[\"dtype\"]):\n",
    "                outputs = model(inputs)\n",
    "                loss = criterion(outputs, targets.float())\n",
    "                \n",
    "                if ema_model:\n",
    "                    ema_outputs = ema_model.module(inputs)\n",
    "                    ema_loss = criterion(ema_outputs, targets.float())\n",
    "            \n",
    "            val_loss += loss.item() * inputs.size(0)\n",
    "            if ema_model:\n",
    "                ema_val_loss += ema_loss.item() * inputs.size(0)\n",
    "            all_targets.extend(targets.cpu().numpy())\n",
    "            all_predictions.extend(outputs.float().squeeze().detach().cpu().numpy())\n",
    "            if ema_model:\n",
    "                ema_all_predictions.extend(ema_outputs.float().squeeze().detach().cpu().numpy())\n",
    "    \n",
    "    val_loss /= len(val_loader.dataset)\n",
    "    val_auc = roc_auc_score(np.hstack(all_targets)>0.5, all_predictions)\n",
    "    val_metrics.append({\"loss\": val_loss, \"auc\": val_auc})\n",
    "    \n",
    "    ep_str = f\"Ep {epoch} Train L: {epoch_loss:.4f} AUC: {epoch_auc:.4f} Val L: {val_loss:.4f} AUC: {val_auc:.4f}\"\n",
    "\n",
    "    if ema_model:\n",
    "        ema_val_loss /= len(val_loader.dataset)\n",
    "        ema_val_auc = roc_auc_score(np.hstack(all_targets)>0.5, ema_all_predictions)\n",
    "        ep_str += f\" EMA L: {ema_val_loss:.4f} AUC: {ema_val_auc:.4f}\"\n",
    "\n",
    "    print(ep_str)\n",
    "    \n",
    "    if val_loss < best_val_loss:\n",
    "        best_val_loss = val_loss\n",
    "        sd = model.state_dict()\n",
    "        sd[\"model_name\"] = config[\"model_name\"]\n",
    "        sd[\"resolution\"] = config['resolution']\n",
    "        torch.save(sd, save_path/f'best_model.pth')\n",
    "    \n",
    "    if ema_model and ema_val_loss < best_val_loss:\n",
    "        best_val_loss = ema_val_loss\n",
    "        sd = ema_model.module.state_dict()\n",
    "        sd[\"model_name\"] = config[\"model_name\"]\n",
    "        sd[\"resolution\"] = config['resolution']\n",
    "        torch.save(sd, save_path/f'best_ema_model.pth')\n",
    "\n",
    "    main_pbar.set_postfix({\n",
    "        \"loss\": f\"{epoch_loss:.4f}\",\n",
    "        \"mem\": f\"{torch.cuda.max_memory_allocated() / 1e9:.2f}GB\"\n",
    "    })\n",
    "\n",
    "sd = model.state_dict()\n",
    "sd[\"model_name\"] = config[\"model_name\"]\n",
    "sd[\"resolution\"] = config['resolution']\n",
    "torch.save(sd, save_path/f'final_model.pth')\n",
    "\n",
    "if ema_model:\n",
    "    sd = ema_model.module.state_dict()\n",
    "    sd[\"model_name\"] = config[\"model_name\"]\n",
    "    sd[\"resolution\"] = config['resolution']\n",
    "    torch.save(sd, save_path/f'final_ema_model.pth')\n",
    "\n",
    "joblib.dump({\n",
    "    \"train_metrics\": train_metrics,\n",
    "    \"val_metrics\": val_metrics\n",
    "}, save_path/f'metrics.joblib')\n",
    "\n",
    "print(f\"Training completed. Final model and metrics saved with prefix: {save_name}\")\n",
    "\n",
    "import shutil\n",
    "\n",
    "# Regular model submissions\n",
    "shutil.copy(save_path/f'final_model.pth', 'TemplateSubmission/')\n",
    "shutil.make_archive('submissions/T1'+save_path.name, 'zip', 'TemplateSubmission/')\n",
    "\n",
    "shutil.copy(save_path/f'best_model.pth', 'TemplateSubmission/final_model.pth')\n",
    "shutil.make_archive('submissions/bT1'+save_path.name, 'zip', 'TemplateSubmission/')\n",
    "\n",
    "# EMA model submissions\n",
    "if config[\"use_ema\"]:\n",
    "    shutil.copy(save_path/f'final_ema_model.pth', 'TemplateSubmission/final_model.pth')\n",
    "    shutil.make_archive('submissions/T1EMA'+save_path.name, 'zip', 'TemplateSubmission/')\n",
    "    try:\n",
    "        shutil.copy(save_path/f'best_ema_model.pth', 'TemplateSubmission/final_model.pth')\n",
    "        shutil.make_archive('submissions/bT1EMA'+save_path.name, 'zip', 'TemplateSubmission/')\n",
    "    except:\n",
    "        pass\n",
    "        \n",
    "print(\"All submissions prepared, including EMA models if applicable.\")"
   ]
  }
 ],
 "metadata": {
  "kernelspec": {
   "display_name": "Python 3 (ipykernel)",
   "language": "python",
   "name": "python3"
  },
  "language_info": {
   "codemirror_mode": {
    "name": "ipython",
    "version": 3
   },
   "file_extension": ".py",
   "mimetype": "text/x-python",
   "name": "python",
   "nbconvert_exporter": "python",
   "pygments_lexer": "ipython3",
   "version": "3.10.13"
  }
 },
 "nbformat": 4,
 "nbformat_minor": 5
}
